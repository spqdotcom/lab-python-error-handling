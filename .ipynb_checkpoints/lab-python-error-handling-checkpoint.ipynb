{
 "cells": [
  {
   "cell_type": "markdown",
   "id": "25d7736c-ba17-4aff-b6bb-66eba20fbf4e",
   "metadata": {},
   "source": [
    "# Lab | Error Handling"
   ]
  },
  {
   "cell_type": "markdown",
   "id": "bc99b386-7508-47a0-bcdb-d969deaf6c8b",
   "metadata": {},
   "source": [
    "### Exercise: Error Handling for Managing Customer Orders\n",
    "\n",
    "The implementation of your code for managing customer orders assumes that the user will always enter a valid input. \n",
    "\n",
    "For example, we could modify the `initialize_inventory` function to include error handling.\n",
    "   - If the user enters an invalid quantity (e.g., a negative value or a non-numeric value), display an error message and ask them to re-enter the quantity for that product.\n",
    "   - Use a try-except block to handle the error and continue prompting the user until a valid quantity is entered.\n",
    "\n",
    "```python\n",
    "# Step 1: Define the function for initializing the inventory with error handling\n",
    "def initialize_inventory(products):\n",
    "    inventory = {}\n",
    "    for product in products:\n",
    "        valid_quantity = False\n",
    "        while not valid_quantity:\n",
    "            try:\n",
    "                quantity = int(input(f\"Enter the quantity of {product}s available: \"))\n",
    "                if quantity < 0:\n",
    "                    raise ValueError(\"Invalid quantity! Please enter a non-negative value.\")\n",
    "                valid_quantity = True\n",
    "            except ValueError as error:\n",
    "                print(f\"Error: {error}\")\n",
    "        inventory[product] = quantity\n",
    "    return inventory\n",
    "\n",
    "# Or, in another way:\n",
    "\n",
    "def initialize_inventory(products):\n",
    "    inventory = {}\n",
    "    for product in products:\n",
    "        valid_input = False\n",
    "        while not valid_input:\n",
    "            try:\n",
    "                quantity = int(input(f\"Enter the quantity of {product}s available: \"))\n",
    "                if quantity >= 0:\n",
    "                    inventory[product] = quantity\n",
    "                    valid_input = True\n",
    "                else:\n",
    "                    print(\"Quantity cannot be negative. Please enter a valid quantity.\")\n",
    "            except ValueError:\n",
    "                print(\"Invalid input. Please enter a valid quantity.\")\n",
    "    return inventory\n",
    "```\n",
    "\n",
    "Let's enhance your code by implementing error handling to handle invalid inputs.\n",
    "\n",
    "Follow the steps below to complete the exercise:\n",
    "\n",
    "2. Modify the `calculate_total_price` function to include error handling.\n",
    "   - If the user enters an invalid price (e.g., a negative value or a non-numeric value), display an error message and ask them to re-enter the price for that product.\n",
    "   - Use a try-except block to handle the error and continue prompting the user until a valid price is entered.\n",
    "\n",
    "3. Modify the `get_customer_orders` function to include error handling.\n",
    "   - If the user enters an invalid number of orders (e.g., a negative value or a non-numeric value), display an error message and ask them to re-enter the number of orders.\n",
    "   - If the user enters an invalid product name (e.g., a product name that is not in the inventory), or that doesn't have stock available, display an error message and ask them to re-enter the product name. *Hint: you will need to pass inventory as a parameter*\n",
    "   - Use a try-except block to handle the error and continue prompting the user until a valid product name is entered.\n",
    "\n",
    "4. Test your code by running the program and deliberately entering invalid quantities and product names. Make sure the error handling mechanism works as expected.\n"
   ]
  },
  {
   "cell_type": "code",
   "execution_count": null,
   "id": "d81e6f9a-8ebd-432b-ad47-8f62d3c34e6f",
   "metadata": {},
   "outputs": [],
   "source": [
    "# inventir el orden de los enunciados 2 y 3. No se puede calcular el precio total si no se crearon las ordenes de los consumidores."
   ]
  },
  {
   "cell_type": "code",
   "execution_count": 10,
   "id": "f5125f55-759b-480d-9db4-37bfe036a6d5",
   "metadata": {},
   "outputs": [],
   "source": [
    "products = [\"t-shirt\", \"mug\", \"hat\", \"book\", \"keychain\"]"
   ]
  },
  {
   "cell_type": "code",
   "execution_count": 30,
   "id": "f226d986-c3fa-41f6-ab36-d9dd39e6d8df",
   "metadata": {},
   "outputs": [],
   "source": [
    "def initialize_inventory(products):\n",
    "    inventory = {}\n",
    "    for product in products:\n",
    "        valid_quantity = False\n",
    "        while not valid_quantity:\n",
    "            try:\n",
    "                quantity = int(input(f\"Enter the quantity of {product}s available: \"))\n",
    "                if quantity < 0:\n",
    "                    raise ValueError(\"Invalid quantity! Please enter a non-negative value.\")\n",
    "                valid_quantity = True\n",
    "            except ValueError as error:\n",
    "                print(f\"Error: {error}\")\n",
    "        inventory[product] = quantity\n",
    "    return inventory"
   ]
  },
  {
   "cell_type": "code",
   "execution_count": 32,
   "id": "2c4ffbe7-d037-4915-acbb-54a08dd4717d",
   "metadata": {},
   "outputs": [
    {
     "name": "stdin",
     "output_type": "stream",
     "text": [
      "Enter the quantity of t-shirts available:  5\n",
      "Enter the quantity of mugs available:  5\n",
      "Enter the quantity of hats available:  h\n"
     ]
    },
    {
     "name": "stdout",
     "output_type": "stream",
     "text": [
      "Error: invalid literal for int() with base 10: 'h'\n"
     ]
    },
    {
     "name": "stdin",
     "output_type": "stream",
     "text": [
      "Enter the quantity of hats available:  5\n",
      "Enter the quantity of books available:  5\n",
      "Enter the quantity of keychains available:  5\n"
     ]
    }
   ],
   "source": [
    "prueba = initialize_inventory(products)"
   ]
  },
  {
   "cell_type": "code",
   "execution_count": 16,
   "id": "19d916a8-f156-42a1-a4f9-9e8dc5ea7605",
   "metadata": {},
   "outputs": [
    {
     "name": "stdout",
     "output_type": "stream",
     "text": [
      "{'t-shirt': 5, 'mug': 5, 'hat': 5, 'book': 5, 'keychain': 5}\n"
     ]
    }
   ],
   "source": [
    "print (prueba)"
   ]
  },
  {
   "cell_type": "code",
   "execution_count": 34,
   "id": "f4bc5270-54b2-476f-bfe9-bdb476fec84d",
   "metadata": {},
   "outputs": [],
   "source": [
    "def initialize_inventory_1(products):\n",
    "    inventory = {}\n",
    "    for product in products:\n",
    "        valid_input = False\n",
    "        while not valid_input:\n",
    "            try:\n",
    "                quantity = int(input(f\"Enter the quantity of {product}s available: \"))\n",
    "                if quantity >= 0:\n",
    "                    inventory[product] = quantity\n",
    "                    valid_input = True\n",
    "                else:\n",
    "                    print(\"Quantity cannot be negative. Please enter a valid quantity.\")\n",
    "            except ValueError:\n",
    "                print(\"Invalid input. Please enter a valid quantity.\")\n",
    "    return inventory"
   ]
  },
  {
   "cell_type": "code",
   "execution_count": 40,
   "id": "c5bef88b-7479-4c4f-9e90-6c78b22f795b",
   "metadata": {},
   "outputs": [
    {
     "name": "stdin",
     "output_type": "stream",
     "text": [
      "Enter the quantity of t-shirts available:  5\n",
      "Enter the quantity of mugs available:  5\n",
      "Enter the quantity of hats available:  5\n",
      "Enter the quantity of books available:  5\n",
      "Enter the quantity of keychains available:  5\n"
     ]
    }
   ],
   "source": [
    "inventory = initialize_inventory(products)"
   ]
  },
  {
   "cell_type": "code",
   "execution_count": 42,
   "id": "3affb755-ec48-451e-a587-7222986d30f8",
   "metadata": {},
   "outputs": [
    {
     "name": "stdout",
     "output_type": "stream",
     "text": [
      "{'t-shirt': 5, 'mug': 5, 'hat': 5, 'book': 5, 'keychain': 5}\n"
     ]
    }
   ],
   "source": [
    "print (inventory)"
   ]
  },
  {
   "cell_type": "code",
   "execution_count": 44,
   "id": "9dcf162a-9b49-4779-bf0b-475c524d6301",
   "metadata": {},
   "outputs": [],
   "source": [
    "def get_customer_orders_1(inventory):\n",
    "    y_n = \"yes\"\n",
    "    customer_orders = set()\n",
    "\n",
    "    while y_n.lower() == \"yes\":\n",
    "        try:\n",
    "            order = input(\"Please enter your order: \")\n",
    "            if order in inventory:\n",
    "                if inventory [order] > 0:\n",
    "                    customer_orders.add(order)\n",
    "                else:\n",
    "                    print(f\"Sorry, we currently do not have {order} in stock\")\n",
    "            else:\n",
    "                print(f\"The entered product {order} is not in the product list\")\n",
    "            \n",
    "        except Exception as e:\n",
    "            print(\"An error ocurred:\", e)\n",
    "                \n",
    "        y_n = input(\"Do you want to do another order? Please respond yes or no:\")\n",
    "        \n",
    "        while y_n.lower() not in [\"yes\",\"no\"]:\n",
    "            print(\"Please enter yes or no\")\n",
    "            y_n = input(\"Do you want to do another order? Please respond yes or no:\")\n",
    "                    \n",
    "\n",
    "    \n",
    "    return customer_orders"
   ]
  },
  {
   "cell_type": "code",
   "execution_count": 62,
   "id": "6d424070-99b1-4bf7-ba80-421fe8121294",
   "metadata": {},
   "outputs": [],
   "source": [
    "def get_customer_orders(inventory):\n",
    "    while True:\n",
    "        try:\n",
    "            num_orders = int(input(\"Please enter the number of orders you want to make: \"))\n",
    "            if num_orders < 1:\n",
    "                print(\"Please enter a positive integer.\")\n",
    "                continue  # Vuelve a pedir la entrada si el número es inválido\n",
    "            break  # Sale del bucle si la entrada es válida\n",
    "        except ValueError:\n",
    "            print(\"Invalid input. Please enter a valid integer.\")\n",
    "\n",
    "    customer_orders = set()  \n",
    "\n",
    "    for _ in range(num_orders):\n",
    "        try:\n",
    "            order = input(\"Please enter your order: \")\n",
    "            if order in inventory:\n",
    "                if inventory[order] > 0:\n",
    "                    if order in customer_orders:\n",
    "                        print(f\"You have already ordered {order}. Please enter a different product.\")\n",
    "                    else:\n",
    "                        customer_orders.add(order)\n",
    "                else:\n",
    "                    print(f\"Sorry, we currently do not have {order} in stock\")\n",
    "            else:\n",
    "                print(f\"The entered product {order} is not in the product list\")\n",
    "                \n",
    "        except Exception as e:\n",
    "            print(\"An error occurred:\", e)\n",
    "\n",
    "    return customer_orders"
   ]
  },
  {
   "cell_type": "code",
   "execution_count": 64,
   "id": "83c07abf-c1a5-4810-9fd8-9cb8351391c0",
   "metadata": {},
   "outputs": [
    {
     "name": "stdin",
     "output_type": "stream",
     "text": [
      "Please enter the number of orders you want to make:  6\n",
      "Please enter your order:  hat\n",
      "Please enter your order:  book\n",
      "Please enter your order:  t-shirt\n",
      "Please enter your order:  4\n"
     ]
    },
    {
     "name": "stdout",
     "output_type": "stream",
     "text": [
      "The entered product 4 is not in the product list\n"
     ]
    },
    {
     "name": "stdin",
     "output_type": "stream",
     "text": [
      "Please enter your order:  4\n"
     ]
    },
    {
     "name": "stdout",
     "output_type": "stream",
     "text": [
      "The entered product 4 is not in the product list\n"
     ]
    },
    {
     "name": "stdin",
     "output_type": "stream",
     "text": [
      "Please enter your order:  4\n"
     ]
    },
    {
     "name": "stdout",
     "output_type": "stream",
     "text": [
      "The entered product 4 is not in the product list\n"
     ]
    },
    {
     "data": {
      "text/plain": [
       "{'book', 'hat', 't-shirt'}"
      ]
     },
     "execution_count": 64,
     "metadata": {},
     "output_type": "execute_result"
    }
   ],
   "source": [
    "get_customer_orders(inventory)"
   ]
  },
  {
   "cell_type": "code",
   "execution_count": 70,
   "id": "d86e7ea9-56bd-439e-a31f-07548df28193",
   "metadata": {},
   "outputs": [
    {
     "name": "stdin",
     "output_type": "stream",
     "text": [
      "Please enter the number of orders you want to make:  hat\n"
     ]
    },
    {
     "name": "stdout",
     "output_type": "stream",
     "text": [
      "Invalid input. Please enter a valid integer.\n"
     ]
    },
    {
     "name": "stdin",
     "output_type": "stream",
     "text": [
      "Please enter the number of orders you want to make:  3\n",
      "Please enter your order:  hat\n",
      "Please enter your order:  t-shirt\n",
      "Please enter your order:  book\n"
     ]
    }
   ],
   "source": [
    "customer_orders = get_customer_orders(inventory)"
   ]
  },
  {
   "cell_type": "code",
   "execution_count": 72,
   "id": "bdc9c0e1-23fa-41fc-8f63-c460fa5d7bae",
   "metadata": {},
   "outputs": [
    {
     "name": "stdout",
     "output_type": "stream",
     "text": [
      "{'t-shirt', 'book', 'hat'}\n"
     ]
    }
   ],
   "source": [
    "print(customer_orders)"
   ]
  },
  {
   "cell_type": "code",
   "execution_count": 100,
   "id": "5627ee2a-2a2b-488c-bd9b-2ecb187b85af",
   "metadata": {},
   "outputs": [],
   "source": [
    "def calculate_total_price(customer_orders):\n",
    "    total_price = 0  # Inicializa el total a 0\n",
    "    product_prices = {}  # Inicializa un diccionario para almacenar productos y precios\n",
    "\n",
    "    for product in customer_orders:\n",
    "        while True:  # Bucle para seguir pidiendo el precio hasta que sea válido\n",
    "            try:\n",
    "                price = float(input(f\"Enter the price of {product}: \"))  # Pide el precio\n",
    "                if price < 0:  # Verifica si el precio es negativo\n",
    "                    print(\"Please enter a positive price.\")\n",
    "                    continue  # Vuelve a pedir el precio si es negativo\n",
    "                product_prices[product] = price  # Almacena el producto y su precio en el diccionario\n",
    "                total_price += price  # Suma el precio válido al total\n",
    "                break  # Sale del bucle si el precio es válido\n",
    "            except ValueError:  # Maneja el error si la entrada no es un número\n",
    "                print(\"Invalid input. Please enter a valid price.\")\n",
    "    \n",
    "    return total_price"
   ]
  },
  {
   "cell_type": "code",
   "execution_count": 102,
   "id": "37a80fee-85b9-4e8a-bdf5-d244dd8c139a",
   "metadata": {},
   "outputs": [
    {
     "name": "stdin",
     "output_type": "stream",
     "text": [
      "Enter the price of t-shirt:  5\n",
      "Enter the price of book:  5\n",
      "Enter the price of hat:  5\n"
     ]
    },
    {
     "data": {
      "text/plain": [
       "15.0"
      ]
     },
     "execution_count": 102,
     "metadata": {},
     "output_type": "execute_result"
    }
   ],
   "source": [
    "calculate_total_price(customer_orders)"
   ]
  }
 ],
 "metadata": {
  "kernelspec": {
   "display_name": "Python [conda env:base] *",
   "language": "python",
   "name": "conda-base-py"
  },
  "language_info": {
   "codemirror_mode": {
    "name": "ipython",
    "version": 3
   },
   "file_extension": ".py",
   "mimetype": "text/x-python",
   "name": "python",
   "nbconvert_exporter": "python",
   "pygments_lexer": "ipython3",
   "version": "3.12.7"
  }
 },
 "nbformat": 4,
 "nbformat_minor": 5
}
